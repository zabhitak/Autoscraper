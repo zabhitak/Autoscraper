{
 "metadata": {
  "language_info": {
   "codemirror_mode": {
    "name": "ipython",
    "version": 3
   },
   "file_extension": ".py",
   "mimetype": "text/x-python",
   "name": "python",
   "nbconvert_exporter": "python",
   "pygments_lexer": "ipython3",
   "version": "3.7.4"
  },
  "orig_nbformat": 2,
  "kernelspec": {
   "name": "python374jvsc74a57bd079dda8d0f1e4b50032f0a11dadfc8f82d3b45fc2ce8df01535accf2b27d801bd",
   "display_name": "Python 3.7.4 64-bit"
  },
  "metadata": {
   "interpreter": {
    "hash": "79dda8d0f1e4b50032f0a11dadfc8f82d3b45fc2ce8df01535accf2b27d801bd"
   }
  }
 },
 "nbformat": 4,
 "nbformat_minor": 2,
 "cells": [
  {
   "cell_type": "code",
   "execution_count": null,
   "metadata": {},
   "outputs": [],
   "source": [
    "# https://colab.research.google.com/drive/1b2oOz3ZZJAuE1p5F947bs0RCUaBUK7ju?usp=sharing#scrollTo=S6jm0lExbe39"
   ]
  },
  {
   "cell_type": "code",
   "execution_count": 1,
   "metadata": {},
   "outputs": [
    {
     "output_type": "stream",
     "name": "stdout",
     "text": [
      "['₹58,400', '₹59,900', '₹1,25,900', '₹1,29,900', '₹82,400', '₹84,900', '₹66,900', '₹69,900', '₹1,35,900', '₹1,39,900', '₹93,900', '₹1,23,900', '₹1,15,900', '₹1,19,900', '₹77,900', '₹79,900', '₹82,900', '₹1,31,900', 'New Apple iPhone 11 (128GB) - Black', 'New Apple iPhone 12 Pro Max (128GB) - Pacific Blue', 'New Apple iPhone 12 (128GB) - Blue', 'New Apple iPhone 11 (128GB) - White', 'New Apple iPhone 11 (128GB) - Green', 'New Apple iPhone 11 (128GB) - (Product) RED', 'New Apple iPhone 12 Mini (64GB) - Blue', 'New Apple iPhone 12 Pro Max (256GB) - Graphite', 'Apple iPhone 11 Pro Max (256GB) - Midnight Green', 'New Apple iPhone 12 Pro (128GB) - Pacific Blue', 'New Apple iPhone 12 (64GB) - Blue', 'New Apple iPhone 12 Mini (64GB) - White', 'New Apple iPhone 12 (128GB) - Black', 'New Apple iPhone 12 (64GB) - Black', 'Apple iPhone 11 Pro Max (256GB) - Gold']\n"
     ]
    }
   ],
   "source": [
    " from autoscraper import AutoScraper\n",
    "\n",
    " url = \"https://www.amazon.in/s?i=aps&k=iphones\"\n",
    "\n",
    "# wanted_list=[\"https://m.media-amazon.com/images/I/71umuN8XVeL._AC_UY218_.jpg\",\"New Apple iPhone 12 Pro Max (128GB) - Silver\",\"1,25,900\",\"501\"] - for images\n",
    "wanted_list = [\"₹58,400\",\"New Apple iPhone 11 (128GB) - Black\"]\n",
    "\n",
    "scraper = AutoScraper()\n",
    "result = scraper.build(url,wanted_list)\n",
    "print(result)"
   ]
  },
  {
   "cell_type": "code",
   "execution_count": 2,
   "metadata": {},
   "outputs": [
    {
     "output_type": "execute_result",
     "data": {
      "text/plain": [
       "{'rule_32fr': ['₹1,25,900',\n",
       "  '₹1,29,900',\n",
       "  '₹58,400',\n",
       "  '₹59,900',\n",
       "  '₹82,400',\n",
       "  '₹84,900',\n",
       "  '₹59,900',\n",
       "  '₹1,35,900',\n",
       "  '₹1,39,900',\n",
       "  '₹59,900',\n",
       "  '₹93,900',\n",
       "  '₹1,23,900',\n",
       "  '₹58,400',\n",
       "  '₹59,900',\n",
       "  '₹1,35,900',\n",
       "  '₹1,39,900',\n",
       "  '₹1,35,900',\n",
       "  '₹1,39,900',\n",
       "  '₹82,400',\n",
       "  '₹84,900',\n",
       "  '₹1,15,900',\n",
       "  '₹1,19,900',\n",
       "  '₹82,900',\n",
       "  '₹84,900',\n",
       "  '₹66,900',\n",
       "  '₹69,900',\n",
       "  '₹77,900',\n",
       "  '₹79,900'],\n",
       " 'rule_m2fv': ['₹1,25,900',\n",
       "  '₹1,29,900',\n",
       "  '₹58,400',\n",
       "  '₹59,900',\n",
       "  '₹82,400',\n",
       "  '₹84,900',\n",
       "  '₹59,900',\n",
       "  '₹1,35,900',\n",
       "  '₹1,39,900',\n",
       "  '₹59,900',\n",
       "  '₹93,900',\n",
       "  '₹1,23,900',\n",
       "  '₹58,400',\n",
       "  '₹59,900',\n",
       "  '₹1,35,900',\n",
       "  '₹1,39,900',\n",
       "  '₹1,35,900',\n",
       "  '₹1,39,900',\n",
       "  '₹82,400',\n",
       "  '₹84,900',\n",
       "  '₹1,15,900',\n",
       "  '₹1,19,900',\n",
       "  '₹82,900',\n",
       "  '₹84,900',\n",
       "  '₹66,900',\n",
       "  '₹69,900',\n",
       "  '₹77,900',\n",
       "  '₹79,900'],\n",
       " 'rule_f6wy': ['₹1,25,900',\n",
       "  '₹1,29,900',\n",
       "  '₹58,400',\n",
       "  '₹59,900',\n",
       "  '₹82,400',\n",
       "  '₹84,900',\n",
       "  '₹59,900',\n",
       "  '₹1,35,900',\n",
       "  '₹1,39,900',\n",
       "  '₹59,900',\n",
       "  '₹93,900',\n",
       "  '₹1,23,900',\n",
       "  '₹58,400',\n",
       "  '₹59,900',\n",
       "  '₹1,35,900',\n",
       "  '₹1,39,900',\n",
       "  '₹1,35,900',\n",
       "  '₹1,39,900',\n",
       "  '₹82,400',\n",
       "  '₹84,900',\n",
       "  '₹1,15,900',\n",
       "  '₹1,19,900',\n",
       "  '₹82,900',\n",
       "  '₹84,900',\n",
       "  '₹66,900',\n",
       "  '₹69,900',\n",
       "  '₹77,900',\n",
       "  '₹79,900'],\n",
       " 'rule_yvsu': ['₹1,25,900',\n",
       "  '₹1,29,900',\n",
       "  '₹58,400',\n",
       "  '₹59,900',\n",
       "  '₹82,400',\n",
       "  '₹84,900',\n",
       "  '₹59,900',\n",
       "  '₹1,35,900',\n",
       "  '₹1,39,900',\n",
       "  '₹59,900',\n",
       "  '₹93,900',\n",
       "  '₹1,23,900',\n",
       "  '₹58,400',\n",
       "  '₹59,900',\n",
       "  '₹1,35,900',\n",
       "  '₹1,39,900',\n",
       "  '₹1,35,900',\n",
       "  '₹1,39,900',\n",
       "  '₹82,400',\n",
       "  '₹84,900',\n",
       "  '₹1,15,900',\n",
       "  '₹1,19,900',\n",
       "  '₹82,900',\n",
       "  '₹84,900',\n",
       "  '₹66,900',\n",
       "  '₹69,900',\n",
       "  '₹77,900',\n",
       "  '₹79,900'],\n",
       " 'rule_1qp8': [],\n",
       " 'rule_vjul': ['New Apple iPhone 12 Pro Max (128GB) - Pacific Blue',\n",
       "  'New Apple iPhone 11 (128GB) - Black',\n",
       "  'New Apple iPhone 12 (128GB) - Blue',\n",
       "  'New Apple iPhone 11 (128GB) - White',\n",
       "  'New Apple iPhone 12 Pro Max (256GB) - Graphite',\n",
       "  'New Apple iPhone 11 (128GB) - Green',\n",
       "  'Apple iPhone 11 Pro Max (256GB) - Midnight Green',\n",
       "  'New Apple iPhone 11 (128GB) - (Product) RED',\n",
       "  'New Apple iPhone 12 Pro Max (256GB) - Pacific Blue',\n",
       "  'New Apple iPhone 12 Pro Max (256GB) - Gold',\n",
       "  'New Apple iPhone 12 (128GB) - White',\n",
       "  'New Apple iPhone 12 Pro (128GB) - Pacific Blue',\n",
       "  'New Apple iPhone 12 (128GB) - Black',\n",
       "  'New Apple iPhone 12 Mini (64GB) - Blue',\n",
       "  'New Apple iPhone 12 (64GB) - Black']}"
      ]
     },
     "metadata": {},
     "execution_count": 2
    }
   ],
   "source": [
    "# grouping\n",
    "data = scraper.get_result_similar(url,grouped=True)\n",
    "print(data)"
   ]
  },
  {
   "cell_type": "code",
   "execution_count": null,
   "metadata": {},
   "outputs": [],
   "source": [
    "# keys = list(data.keys())\n",
    "# print(keys)\n",
    "# scraper.set_rule_aliases({str(keys[0]):'ImageUrl',str(keys[2]):'Title',str(keys[-2]):'Price',str(keys[-1]):'Reviews'})\n",
    "# scraper.save(\"amazon_in.json\")"
   ]
  },
  {
   "cell_type": "code",
   "execution_count": 3,
   "metadata": {},
   "outputs": [],
   "source": [
    "scraper.set_rule_aliases({'rule_vjul':'Title'})\n",
    "scraper.keep_rules(['rule_vjul'])\n",
    "scraper.save('amazon-search')"
   ]
  },
  {
   "cell_type": "code",
   "execution_count": 4,
   "metadata": {},
   "outputs": [],
   "source": [
    "scraper.load('amazon-search')\n",
    "result2 = scraper.get_result_similar('https://www.amazon.in/s?i=aps&k=mi',group_by_alias=True)"
   ]
  },
  {
   "cell_type": "code",
   "execution_count": 5,
   "metadata": {},
   "outputs": [
    {
     "output_type": "execute_result",
     "data": {
      "text/plain": [
       "['Mi 10i 5G (Atlantic Blue, 6GB RAM, 128GB Storage) - 108MP Quad Camera | Snapdragon 750G Processor | Upto 6 Months No Cost EMI',\n",
       " 'Redmi Note 9 Pro (Champagne Gold, 4GB RAM, 64GB Storage) - Latest 8nm Snapdragon 720G & Alexa Hands-Free',\n",
       " 'Redmi Note 9 Pro Max (Champagne Gold, 6GB RAM, 64GB Storage) - 64MP Quad Camera & Latest 8nm Snapdragon 720G & Alexa Hands...',\n",
       " 'Mi Redmi 6A (Black, 2GB RAM, 16GB Storage)',\n",
       " 'Redmi 9 (Sky Blue, 4GB RAM, 64GB Storage)',\n",
       " 'Mi 11X Pro (Celestial Silver, 8GB RAM, 256GB Storage) | Upto INR 4000 Off on HDFC Bank Cards and EMI | Upto 12 Months No C...',\n",
       " 'Redmi Note 10 (Shadow Black, 6GB RAM, 128GB Storage)',\n",
       " 'Redmi 9A (Nature Green, 2GB Ram, 32GB Storage) | 2GHz Octa-core Helio G25 Processor',\n",
       " 'Redmi 9 Power (Fiery Red, 4GB RAM, 64GB Storage) - 6000mAh Battery |FHD+ Screen| 48MP Quad Camera',\n",
       " 'Redmi 9 Prime (Mint Green, 4GB RAM, 64GB Storage)- Full HD+ Display & AI Quad Camera',\n",
       " 'Redmi Note 9 (Pebble Grey, 4GB RAM 64GB Storage) - 48MP Quad Camera & Full HD+ Display | Extra INR 1000 Off on Exchange',\n",
       " 'Oppo A31 (Fantasy White, 6GB RAM, 128GB Storage) with No Cost EMI/Additional Exchange Offers',\n",
       " 'Samsung Galaxy M31 (Ocean Blue, 6GB RAM, 128GB Storage)',\n",
       " 'Samsung Galaxy M31s (Mirage Blue, 6GB RAM, 128GB Storage)']"
      ]
     },
     "metadata": {},
     "execution_count": 5
    }
   ],
   "source": [
    "result2['Title']"
   ]
  }
 ]
}