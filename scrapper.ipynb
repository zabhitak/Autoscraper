{
 "metadata": {
  "language_info": {
   "codemirror_mode": {
    "name": "ipython",
    "version": 3
   },
   "file_extension": ".py",
   "mimetype": "text/x-python",
   "name": "python",
   "nbconvert_exporter": "python",
   "pygments_lexer": "ipython3",
   "version": "3.7.4"
  },
  "orig_nbformat": 2,
  "kernelspec": {
   "name": "python374jvsc74a57bd05c9ee4e079b55a5a9f8294ea29ba5394cef22ac1fa86b26b0ac313aef7517eaf",
   "display_name": "Python 3.7.4 64-bit"
  },
  "metadata": {
   "interpreter": {
    "hash": "5c9ee4e079b55a5a9f8294ea29ba5394cef22ac1fa86b26b0ac313aef7517eaf"
   }
  }
 },
 "nbformat": 4,
 "nbformat_minor": 2,
 "cells": [
  {
   "cell_type": "code",
   "execution_count": 2,
   "metadata": {},
   "outputs": [
    {
     "output_type": "stream",
     "name": "stdout",
     "text": [
      "Collecting autoscraper\n",
      "  Downloading autoscraper-1.1.12-py3-none-any.whl (10 kB)\n",
      "Requirement already satisfied: lxml in c:\\users\\abhinav\\python37\\lib\\site-packages (from autoscraper) (4.5.2)\n",
      "Requirement already satisfied: bs4 in c:\\users\\abhinav\\python37\\lib\\site-packages (from autoscraper) (0.0.1)\n",
      "Requirement already satisfied: requests in c:\\users\\abhinav\\python37\\lib\\site-packages (from autoscraper) (2.24.0)\n",
      "Requirement already satisfied: beautifulsoup4 in c:\\users\\abhinav\\python37\\lib\\site-packages (from bs4->autoscraper) (4.8.2)\n",
      "Requirement already satisfied: soupsieve>=1.2 in c:\\users\\abhinav\\python37\\lib\\site-packages (from beautifulsoup4->bs4->autoscraper) (1.9.5)\n",
      "Requirement already satisfied: chardet<4,>=3.0.2 in c:\\users\\abhinav\\python37\\lib\\site-packages (from requests->autoscraper) (3.0.4)\n",
      "Requirement already satisfied: urllib3!=1.25.0,!=1.25.1,<1.26,>=1.21.1 in c:\\users\\abhinav\\python37\\lib\\site-packages (from requests->autoscraper) (1.25.10)\n",
      "Requirement already satisfied: idna<3,>=2.5 in c:\\users\\abhinav\\python37\\lib\\site-packages (from requests->autoscraper) (2.10)\n",
      "Requirement already satisfied: certifi>=2017.4.17 in c:\\users\\abhinav\\python37\\lib\\site-packages (from requests->autoscraper) (2020.6.20)\n",
      "Installing collected packages: autoscraper\n",
      "Successfully installed autoscraper-1.1.12\n",
      "WARNING: You are using pip version 21.0.1; however, version 21.1 is available.\n",
      "You should consider upgrading via the 'c:\\users\\abhinav\\python37\\python.exe -m pip install --upgrade pip' command.\n"
     ]
    }
   ],
   "source": [
    "# autoscrapper\n",
    "#https://pypi.org/project/autoscraper/\n",
    "!pip install autoscraper"
   ]
  },
  {
   "cell_type": "code",
   "execution_count": 16,
   "metadata": {},
   "outputs": [
    {
     "output_type": "stream",
     "name": "stdout",
     "text": [
      "['NLP_base', 'stock_sentiment', 'fake_news_classifier', 'difesa_web', 'react_streaming', 'portfolio', 'javaSCRIPT', 'difesa_', 'awsS3', 'video', 'zabhitak', 'shop', 'map_implement', 'react_youtubeapi', 'react_search', 'NEC', 'TOPSIS-Abhinav-101803706', 'ecommerce', 'node-sql', 'MishMash-2020-', 'HackMIT2020\\n\\n\\n          Forked from gutku10/HackMIT2020', 'KNN', 'flutter', 'pandas_scrapping', 'matplotlib-seaborn', 'invisible_cloak', 'image_processing', 'selenium_fbApi_Python', 'ChatApp', 'mongoDB']\n"
     ]
    }
   ],
   "source": [
    " from autoscraper import AutoScraper\n",
    "\n",
    " url = \"https://github.com/zabhitak?tab=repositories\"\n",
    "\n",
    "# We can add one or multiple candidates here.\n",
    "# You can also put urls here to retrieve urls.\n",
    "wanted_list = [\"portfolio\"]\n",
    "\n",
    "scraper = AutoScraper()\n",
    "result = scraper.build(url,wanted_list)\n",
    "print(result)\n",
    "\n",
    "# as i have given my repo name so it will extract all repo names "
   ]
  },
  {
   "cell_type": "code",
   "execution_count": 18,
   "metadata": {},
   "outputs": [
    {
     "output_type": "stream",
     "name": "stdout",
     "text": [
      "['Jupyter Notebook', 'CSS', 'JavaScript', 'Java', 'HTML', 'Python', 'Dart', 'Archived', 'Stars', 'NLP_base', 'stock_sentiment', 'fake_news_classifier', 'difesa_web', 'react_streaming', 'portfolio', 'javaSCRIPT', 'difesa_', 'awsS3', 'video', 'zabhitak', 'shop', 'map_implement', 'react_youtubeapi', 'react_search', 'NEC', 'TOPSIS-Abhinav-101803706', 'ecommerce', 'node-sql', 'MishMash-2020-', 'HackMIT2020\\n\\n\\n          Forked from gutku10/HackMIT2020', 'KNN', 'flutter', 'pandas_scrapping', 'matplotlib-seaborn', 'invisible_cloak', 'image_processing', 'selenium_fbApi_Python', 'ChatApp', 'mongoDB']\n"
     ]
    }
   ],
   "source": [
    "wanted_list2 = [\"JavaScript\",\"portfolio\"]\n",
    "result2 = scraper.build(url,wanted_list2)\n",
    "print(result2)"
   ]
  },
  {
   "cell_type": "code",
   "execution_count": 19,
   "metadata": {},
   "outputs": [
    {
     "output_type": "execute_result",
     "data": {
      "text/plain": [
       "{'rule_dhep': ['Jupyter Notebook',\n",
       "  'Jupyter Notebook',\n",
       "  'Jupyter Notebook',\n",
       "  'CSS',\n",
       "  'JavaScript',\n",
       "  'CSS',\n",
       "  'JavaScript',\n",
       "  'Java',\n",
       "  'Jupyter Notebook',\n",
       "  'HTML',\n",
       "  'CSS',\n",
       "  'JavaScript',\n",
       "  'JavaScript',\n",
       "  'JavaScript',\n",
       "  'Python',\n",
       "  'JavaScript',\n",
       "  'HTML',\n",
       "  'Java',\n",
       "  'JavaScript',\n",
       "  'Jupyter Notebook',\n",
       "  'Dart',\n",
       "  'Jupyter Notebook',\n",
       "  'Jupyter Notebook',\n",
       "  'Python',\n",
       "  'Jupyter Notebook',\n",
       "  'Jupyter Notebook',\n",
       "  'Python',\n",
       "  'HTML'],\n",
       " 'rule_sma7': ['Jupyter Notebook',\n",
       "  'Jupyter Notebook',\n",
       "  'Jupyter Notebook',\n",
       "  'CSS',\n",
       "  'JavaScript',\n",
       "  'CSS',\n",
       "  'JavaScript',\n",
       "  'Java',\n",
       "  'Jupyter Notebook',\n",
       "  'HTML',\n",
       "  'CSS',\n",
       "  'JavaScript',\n",
       "  'JavaScript',\n",
       "  'JavaScript',\n",
       "  'Python',\n",
       "  'JavaScript',\n",
       "  'HTML',\n",
       "  'Java',\n",
       "  'JavaScript',\n",
       "  'Jupyter Notebook',\n",
       "  'Dart',\n",
       "  'Jupyter Notebook',\n",
       "  'Jupyter Notebook',\n",
       "  'Python',\n",
       "  'Jupyter Notebook',\n",
       "  'Jupyter Notebook',\n",
       "  'Python',\n",
       "  'HTML'],\n",
       " 'rule_xk9k': ['Jupyter Notebook',\n",
       "  'Jupyter Notebook',\n",
       "  'Jupyter Notebook',\n",
       "  'CSS',\n",
       "  'JavaScript',\n",
       "  'CSS',\n",
       "  'JavaScript',\n",
       "  'Java',\n",
       "  'Jupyter Notebook',\n",
       "  'HTML',\n",
       "  'CSS',\n",
       "  'JavaScript',\n",
       "  'JavaScript',\n",
       "  'JavaScript',\n",
       "  'Python',\n",
       "  'JavaScript',\n",
       "  'HTML',\n",
       "  'Java',\n",
       "  'JavaScript',\n",
       "  'Jupyter Notebook',\n",
       "  'Dart',\n",
       "  'Jupyter Notebook',\n",
       "  'Jupyter Notebook',\n",
       "  'Python',\n",
       "  'Jupyter Notebook',\n",
       "  'Jupyter Notebook',\n",
       "  'Python',\n",
       "  'HTML'],\n",
       " 'rule_ng0m': ['Jupyter Notebook',\n",
       "  'Jupyter Notebook',\n",
       "  'Jupyter Notebook',\n",
       "  'CSS',\n",
       "  'JavaScript',\n",
       "  'CSS',\n",
       "  'JavaScript',\n",
       "  'Java',\n",
       "  'Jupyter Notebook',\n",
       "  'HTML',\n",
       "  'CSS',\n",
       "  'JavaScript',\n",
       "  'JavaScript',\n",
       "  'JavaScript',\n",
       "  'Python',\n",
       "  'JavaScript',\n",
       "  'HTML',\n",
       "  'Java',\n",
       "  'JavaScript',\n",
       "  'Jupyter Notebook',\n",
       "  'Dart',\n",
       "  'Jupyter Notebook',\n",
       "  'Jupyter Notebook',\n",
       "  'Python',\n",
       "  'Jupyter Notebook',\n",
       "  'Jupyter Notebook',\n",
       "  'Python',\n",
       "  'HTML'],\n",
       " 'rule_9ylt': ['Jupyter Notebook',\n",
       "  'Jupyter Notebook',\n",
       "  'Jupyter Notebook',\n",
       "  'CSS',\n",
       "  'JavaScript',\n",
       "  'CSS',\n",
       "  'JavaScript',\n",
       "  'Java',\n",
       "  'Jupyter Notebook',\n",
       "  'HTML',\n",
       "  'CSS',\n",
       "  'JavaScript',\n",
       "  'JavaScript',\n",
       "  'JavaScript',\n",
       "  'Python',\n",
       "  'JavaScript',\n",
       "  'HTML',\n",
       "  'Java',\n",
       "  'JavaScript',\n",
       "  'Jupyter Notebook',\n",
       "  'Dart',\n",
       "  'Jupyter Notebook',\n",
       "  'Jupyter Notebook',\n",
       "  'Python',\n",
       "  'Jupyter Notebook',\n",
       "  'Jupyter Notebook',\n",
       "  'Python',\n",
       "  'HTML'],\n",
       " 'rule_26qt': ['Jupyter Notebook',\n",
       "  'Jupyter Notebook',\n",
       "  'Jupyter Notebook',\n",
       "  'CSS',\n",
       "  'JavaScript',\n",
       "  'CSS',\n",
       "  'JavaScript',\n",
       "  'Java',\n",
       "  'Jupyter Notebook',\n",
       "  'HTML',\n",
       "  'CSS',\n",
       "  'JavaScript',\n",
       "  'JavaScript',\n",
       "  'JavaScript',\n",
       "  'Python',\n",
       "  'JavaScript',\n",
       "  'HTML',\n",
       "  'Java',\n",
       "  'JavaScript',\n",
       "  'Jupyter Notebook',\n",
       "  'Dart',\n",
       "  'Jupyter Notebook',\n",
       "  'Jupyter Notebook',\n",
       "  'Python',\n",
       "  'Jupyter Notebook',\n",
       "  'Jupyter Notebook',\n",
       "  'Python',\n",
       "  'HTML'],\n",
       " 'rule_p1ok': ['Jupyter Notebook',\n",
       "  'Jupyter Notebook',\n",
       "  'Jupyter Notebook',\n",
       "  'CSS',\n",
       "  'JavaScript',\n",
       "  'CSS',\n",
       "  'JavaScript',\n",
       "  'Java',\n",
       "  'Jupyter Notebook',\n",
       "  'HTML',\n",
       "  'CSS',\n",
       "  'JavaScript',\n",
       "  'JavaScript',\n",
       "  'JavaScript',\n",
       "  'Python',\n",
       "  'JavaScript',\n",
       "  'HTML',\n",
       "  'Java',\n",
       "  'JavaScript',\n",
       "  'Jupyter Notebook',\n",
       "  'Dart',\n",
       "  'Jupyter Notebook',\n",
       "  'Jupyter Notebook',\n",
       "  'Python',\n",
       "  'Jupyter Notebook',\n",
       "  'Jupyter Notebook',\n",
       "  'Python',\n",
       "  'HTML'],\n",
       " 'rule_qe6a': ['Archived', 'JavaScript', 'Stars'],\n",
       " 'rule_8179': ['NLP_base',\n",
       "  'stock_sentiment',\n",
       "  'fake_news_classifier',\n",
       "  'difesa_web',\n",
       "  'react_streaming',\n",
       "  'portfolio',\n",
       "  'javaSCRIPT',\n",
       "  'difesa_',\n",
       "  'awsS3',\n",
       "  'video',\n",
       "  'zabhitak',\n",
       "  'shop',\n",
       "  'map_implement',\n",
       "  'react_youtubeapi',\n",
       "  'react_search',\n",
       "  'NEC',\n",
       "  'TOPSIS-Abhinav-101803706',\n",
       "  'ecommerce',\n",
       "  'node-sql',\n",
       "  'MishMash-2020-',\n",
       "  'HackMIT2020\\n\\n\\n          Forked from gutku10/HackMIT2020',\n",
       "  'KNN',\n",
       "  'flutter',\n",
       "  'pandas_scrapping',\n",
       "  'matplotlib-seaborn',\n",
       "  'invisible_cloak',\n",
       "  'image_processing',\n",
       "  'selenium_fbApi_Python',\n",
       "  'ChatApp',\n",
       "  'mongoDB']}"
      ]
     },
     "metadata": {},
     "execution_count": 19
    }
   ],
   "source": [
    "scraper.get_result_similar(\"https://github.com/zabhitak?tab=repositories\",grouped=True)"
   ]
  },
  {
   "cell_type": "code",
   "execution_count": 22,
   "metadata": {},
   "outputs": [],
   "source": [
    "scraper.set_rule_aliases({'rule_8179':'Repo','rule_p1ok':'Stack'})\n",
    "scraper.keep_rules(['rule_8179','rule_p1ok'])\n",
    "scraper.save('github-repo-search')"
   ]
  },
  {
   "cell_type": "code",
   "execution_count": 23,
   "metadata": {},
   "outputs": [],
   "source": [
    "scraper.load('github-repo-search')"
   ]
  },
  {
   "cell_type": "code",
   "execution_count": 25,
   "metadata": {},
   "outputs": [],
   "source": [
    "result3 = scraper.get_result_similar('https://github.com/iNeuronai?tab=repositories',group_by_alias=True)"
   ]
  },
  {
   "cell_type": "code",
   "execution_count": 28,
   "metadata": {},
   "outputs": [
    {
     "output_type": "execute_result",
     "data": {
      "text/plain": [
       "['HTML',\n",
       " 'Python',\n",
       " 'CSS',\n",
       " 'CSS',\n",
       " 'CSS',\n",
       " 'Python',\n",
       " 'CSS',\n",
       " 'Rich Text Format',\n",
       " 'Jupyter Notebook',\n",
       " 'Jupyter Notebook',\n",
       " 'Jupyter Notebook',\n",
       " 'Python',\n",
       " 'Jupyter Notebook',\n",
       " 'Python']"
      ]
     },
     "metadata": {},
     "execution_count": 28
    }
   ],
   "source": [
    "result3['Stack']"
   ]
  }
 ]
}